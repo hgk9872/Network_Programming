{
 "cells": [
  {
   "cell_type": "code",
   "execution_count": 5,
   "id": "5fdedb36",
   "metadata": {},
   "outputs": [
    {
     "name": "stdout",
     "output_type": "stream",
     "text": [
      "The IP address of maps.google.com is 142.250.207.110\n"
     ]
    }
   ],
   "source": [
    "## DNS (Domain Name System)\n",
    "## Turning a host name to an IP Address\n",
    "## using method gethostbyname()\n",
    "\n",
    "import socket\n",
    "\n",
    "## 'maps.google.com'의 IP주소 받기\n",
    "if __name__ == '__main__':\n",
    "    hostname = 'maps.google.com'\n",
    "    addr = socket.gethostbyname(hostname)\n",
    "    print('The IP address of {} is {}'.format(hostname, addr))"
   ]
  },
  {
   "cell_type": "code",
   "execution_count": 2,
   "id": "06846050",
   "metadata": {},
   "outputs": [
    {
     "name": "stdout",
     "output_type": "stream",
     "text": [
      "The IP address of maps.google.com is 142.250.207.110\n"
     ]
    }
   ],
   "source": []
  },
  {
   "cell_type": "code",
   "execution_count": null,
   "id": "59ec59e4",
   "metadata": {},
   "outputs": [],
   "source": []
  }
 ],
 "metadata": {
  "kernelspec": {
   "display_name": "Python 3 (ipykernel)",
   "language": "python",
   "name": "python3"
  },
  "language_info": {
   "codemirror_mode": {
    "name": "ipython",
    "version": 3
   },
   "file_extension": ".py",
   "mimetype": "text/x-python",
   "name": "python",
   "nbconvert_exporter": "python",
   "pygments_lexer": "ipython3",
   "version": "3.8.10"
  }
 },
 "nbformat": 4,
 "nbformat_minor": 5
}
