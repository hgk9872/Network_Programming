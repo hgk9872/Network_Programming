{
 "cells": [
  {
   "cell_type": "code",
   "execution_count": 5,
   "id": "fdcc3955",
   "metadata": {},
   "outputs": [
    {
     "name": "stdout",
     "output_type": "stream",
     "text": [
      "The IP address of maps.google.com is 142.250.207.110\n"
     ]
    }
   ],
   "source": [
    "## DNS (Domain Name System)\n",
    "## Turning a host name to an IP Address\n",
    "## using method gethostbyname()\n",
    "\n",
    "import socket\n",
    "\n",
    "## 'maps.google.com'의 IP주소 받기\n",
    "if __name__ == '__main__':\n",
    "    hostname = 'maps.google.com'\n",
    "    addr = socket.gethostbyname(hostname)\n",
    "    print('The IP address of {} is {}'.format(hostname, addr))"
   ]
  },
  {
   "cell_type": "code",
   "execution_count": 16,
   "id": "7fb1a1c4",
   "metadata": {},
   "outputs": [
    {
     "name": "stdout",
     "output_type": "stream",
     "text": [
      "[(<AddressFamily.AF_INET: 2>,\n",
      "  <SocketKind.SOCK_STREAM: 1>,\n",
      "  0,\n",
      "  '',\n",
      "  ('3.214.16.8', 80))]\n"
     ]
    }
   ],
   "source": [
    "## getaddrinfo() method\n",
    "## hostname과 port를 인자로 받아 소켓연결을 위한 정보를 얻는 함수\n",
    "\n",
    "import socket\n",
    "from pprint import pprint\n",
    "\n",
    "infolist = socket.getaddrinfo('gatech.edu', 'www')\n",
    "pprint(infolist)"
   ]
  },
  {
   "cell_type": "code",
   "execution_count": 17,
   "id": "653e1cc5",
   "metadata": {},
   "outputs": [
    {
     "data": {
      "text/plain": [
       "(<AddressFamily.AF_INET: 2>,\n",
       " <SocketKind.SOCK_STREAM: 1>,\n",
       " 0,\n",
       " '',\n",
       " ('3.214.16.8', 80))"
      ]
     },
     "execution_count": 17,
     "metadata": {},
     "output_type": "execute_result"
    }
   ],
   "source": [
    "## 리턴받은 리스트에서 값만 가져옴\n",
    "## 기존 리턴값은 [(addinfo)] 형태임\n",
    "## socket을 만들기 위해 필요한 정보 3개만 가져옴\n",
    "info = infolist[0]\n",
    "info[0:3]"
   ]
  },
  {
   "cell_type": "code",
   "execution_count": 24,
   "id": "8ad896ef",
   "metadata": {},
   "outputs": [],
   "source": [
    "## create a socket using the first 3 tuples\n",
    "## 리스트로 입력할 시 error\n",
    "## 튜플(값)로 입력값 넣어야함\n",
    "## Asterisk(*)은 튜플로 변환하여 값을 넣어줌\n",
    "\n",
    "s = socket.socket(*info[0:3])"
   ]
  },
  {
   "cell_type": "code",
   "execution_count": 26,
   "id": "44eaafbc",
   "metadata": {},
   "outputs": [],
   "source": [
    "## socket connect를 위해 (ip address, port number) 필요\n",
    "info[4]\n",
    "s.connect(info[4])"
   ]
  },
  {
   "cell_type": "code",
   "execution_count": 29,
   "id": "2b01ce29",
   "metadata": {},
   "outputs": [
    {
     "data": {
      "text/plain": [
       "[(<AddressFamily.AF_INET6: 23>,\n",
       "  <SocketKind.SOCK_STREAM: 1>,\n",
       "  0,\n",
       "  '',\n",
       "  ('::', 25, 0, 0)),\n",
       " (<AddressFamily.AF_INET: 2>,\n",
       "  <SocketKind.SOCK_STREAM: 1>,\n",
       "  0,\n",
       "  '',\n",
       "  ('0.0.0.0', 25))]"
      ]
     },
     "execution_count": 29,
     "metadata": {},
     "output_type": "execute_result"
    }
   ],
   "source": [
    "## getaddrinfo()를 사용하여 서버를 포트에 연결\n",
    "## 어떤 주소를 소켓에 바인드 할 것인지\n",
    "\n",
    "from socket import getaddrinfo\n",
    "\n",
    "# None은 local address, port = 'smtp', family = 0(IPv4, IPv6 둘다), type = TCP, protocol 0, flags = AI_PASSIVE\n",
    "getaddrinfo(None, 'smtp', 0, socket.SOCK_STREAM, 0, socket.AI_PASSIVE)"
   ]
  },
  {
   "cell_type": "code",
   "execution_count": 30,
   "id": "681137fa",
   "metadata": {},
   "outputs": [
    {
     "data": {
      "text/plain": [
       "[(<AddressFamily.AF_INET6: 23>,\n",
       "  <SocketKind.SOCK_DGRAM: 2>,\n",
       "  0,\n",
       "  '',\n",
       "  ('::', 53, 0, 0)),\n",
       " (<AddressFamily.AF_INET: 2>,\n",
       "  <SocketKind.SOCK_DGRAM: 2>,\n",
       "  0,\n",
       "  '',\n",
       "  ('0.0.0.0', 53))]"
      ]
     },
     "execution_count": 30,
     "metadata": {},
     "output_type": "execute_result"
    }
   ],
   "source": [
    "## UDP를 사용하여 DNS 서비스 제공\n",
    "\n",
    "getaddrinfo(None, 53, 0, socket.SOCK_DGRAM, 0, socket.AI_PASSIVE)"
   ]
  },
  {
   "cell_type": "code",
   "execution_count": 31,
   "id": "fcd501d6",
   "metadata": {},
   "outputs": [
    {
     "data": {
      "text/plain": [
       "[(<AddressFamily.AF_INET: 2>,\n",
       "  <SocketKind.SOCK_STREAM: 1>,\n",
       "  0,\n",
       "  '',\n",
       "  ('127.0.0.1', 25))]"
      ]
     },
     "execution_count": 31,
     "metadata": {},
     "output_type": "execute_result"
    }
   ],
   "source": [
    "## 특정 IP 주소를 바인드하고 싶은 경우 \n",
    "## AI_PASSIVE flags를 0으로 셋팅\n",
    "\n",
    "getaddrinfo('127.0.0.1', 'smtp', 0, socket.SOCK_STREAM, 0)"
   ]
  },
  {
   "cell_type": "code",
   "execution_count": 32,
   "id": "3f7f0f36",
   "metadata": {},
   "outputs": [
    {
     "data": {
      "text/plain": [
       "[(<AddressFamily.AF_INET: 2>,\n",
       "  <SocketKind.SOCK_STREAM: 1>,\n",
       "  0,\n",
       "  '',\n",
       "  ('145.40.73.55', 80))]"
      ]
     },
     "execution_count": 32,
     "metadata": {},
     "output_type": "execute_result"
    }
   ],
   "source": [
    "## getaddrinfo()를 사용하여 Service에 connect\n",
    "## AI_ADDRCONFIG는 내 컴퓨터가 갈 수 없는 주소인지 filter out\n",
    "## AI_V4MAPPED는 만약 클라이언트가 IPv6만 가지고 있을 경우 IPv4를 IPv6으로\n",
    "\n",
    "getaddrinfo('www.kernel.org', 'http', 0, socket.SOCK_STREAM, 0,\n",
    "           socket.AI_ADDRCONFIG | socket.AI_V4MAPPED)"
   ]
  },
  {
   "cell_type": "code",
   "execution_count": 35,
   "id": "cc1cf919",
   "metadata": {
    "scrolled": true
   },
   "outputs": [
    {
     "data": {
      "text/plain": [
       "[(<AddressFamily.AF_INET: 2>,\n",
       "  <SocketKind.SOCK_STREAM: 1>,\n",
       "  0,\n",
       "  'iana.org',\n",
       "  ('192.0.43.8', 80))]"
      ]
     },
     "execution_count": 35,
     "metadata": {},
     "output_type": "execute_result"
    }
   ],
   "source": [
    "## getaddrinfo()로 canonical hostname 얻기\n",
    "\n",
    "getaddrinfo('iana.org', 'www', 0, socket.SOCK_STREAM, 0, \n",
    "            socket.AI_ADDRCONFIG | socket.AI_V4MAPPED | socket.AI_CANONNAME)"
   ]
  },
  {
   "cell_type": "code",
   "execution_count": null,
   "id": "8514a42b",
   "metadata": {},
   "outputs": [],
   "source": []
  }
 ],
 "metadata": {
  "kernelspec": {
   "display_name": "Python 3 (ipykernel)",
   "language": "python",
   "name": "python3"
  },
  "language_info": {
   "codemirror_mode": {
    "name": "ipython",
    "version": 3
   },
   "file_extension": ".py",
   "mimetype": "text/x-python",
   "name": "python",
   "nbconvert_exporter": "python",
   "pygments_lexer": "ipython3",
   "version": "3.8.10"
  }
 },
 "nbformat": 4,
 "nbformat_minor": 5
}
