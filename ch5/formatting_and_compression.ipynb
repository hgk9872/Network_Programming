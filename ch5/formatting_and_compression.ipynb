{
 "cells": [
  {
   "cell_type": "code",
   "execution_count": 5,
   "id": "8bbb18ae",
   "metadata": {},
   "outputs": [
    {
     "name": "stdout",
     "output_type": "stream",
     "text": [
      "<class 'bytes'>\n"
     ]
    },
    {
     "data": {
      "text/plain": [
       "b'\\x80\\x04\\x95\\t\\x00\\x00\\x00\\x00\\x00\\x00\\x00]\\x94(K\\x05K\\x06e.'"
      ]
     },
     "execution_count": 5,
     "metadata": {},
     "output_type": "execute_result"
    }
   ],
   "source": [
    "## 파이썬 객체를 pickle 모듈을 사용하여 bytes object형태로 store\n",
    "\n",
    "import pickle\n",
    "pk = pickle.dumps([5, 6]) # Encoding\n",
    "print(type(pk))\n",
    "pk"
   ]
  },
  {
   "cell_type": "code",
   "execution_count": 6,
   "id": "b19ecaf2",
   "metadata": {},
   "outputs": [
    {
     "data": {
      "text/plain": [
       "[5, 6]"
      ]
     },
     "execution_count": 6,
     "metadata": {},
     "output_type": "execute_result"
    }
   ],
   "source": [
    "pickle.loads(pk) # Decoding"
   ]
  },
  {
   "cell_type": "code",
   "execution_count": 7,
   "id": "be16923b",
   "metadata": {},
   "outputs": [
    {
     "data": {
      "text/plain": [
       "'[51, \"soongsil\\\\uc22d\\\\uc2e4\"]'"
      ]
     },
     "execution_count": 7,
     "metadata": {},
     "output_type": "execute_result"
    }
   ],
   "source": [
    "## using JSON format in python standard library\n",
    "## json format 스트림으로 객체를 serialize\n",
    "\n",
    "import json\n",
    "json.dumps([51, 'soongsil숭실']) # Encoding"
   ]
  },
  {
   "cell_type": "code",
   "execution_count": 8,
   "id": "85b9c2eb",
   "metadata": {},
   "outputs": [
    {
     "data": {
      "text/plain": [
       "'[51, \"soongsil숭실\"]'"
      ]
     },
     "execution_count": 8,
     "metadata": {},
     "output_type": "execute_result"
    }
   ],
   "source": [
    "json.dumps([51, 'soongsil숭실'], ensure_ascii=False) # 아스키코드로 변환X"
   ]
  },
  {
   "cell_type": "code",
   "execution_count": 9,
   "id": "42132f44",
   "metadata": {},
   "outputs": [
    {
     "data": {
      "text/plain": [
       "{'name': 'Lancelot', 'quest': 'Grail'}"
      ]
     },
     "execution_count": 9,
     "metadata": {},
     "output_type": "execute_result"
    }
   ],
   "source": [
    "json.loads('{\"name\": \"Lancelot\", \"quest\": \"Grail\"}') # Decoding"
   ]
  },
  {
   "cell_type": "code",
   "execution_count": 10,
   "id": "6ec2461a",
   "metadata": {},
   "outputs": [
    {
     "data": {
      "text/plain": [
       "6"
      ]
     },
     "execution_count": 10,
     "metadata": {},
     "output_type": "execute_result"
    }
   ],
   "source": [
    "## Compression using Zlib Python Interfaces in standard library\n",
    "\n",
    "import zlib\n",
    "data = b'Python'\n",
    "len(data) # 압축 전 byte string data의 길이"
   ]
  },
  {
   "cell_type": "code",
   "execution_count": 13,
   "id": "d0fa9672",
   "metadata": {},
   "outputs": [
    {
     "name": "stdout",
     "output_type": "stream",
     "text": [
      "b'x\\x9c\\x0b\\xa8,\\xc9\\xc8\\xcf\\x03\\x00\\x08\\x97\\x02\\x83'\n",
      "14\n"
     ]
    }
   ],
   "source": [
    "compressed = zlib.compress(data) # 압축 후 데이터\n",
    "print(compressed)\n",
    "print(len(compressed))"
   ]
  },
  {
   "cell_type": "code",
   "execution_count": 14,
   "id": "42b2ad56",
   "metadata": {},
   "outputs": [
    {
     "data": {
      "text/plain": [
       "b'Python'"
      ]
     },
     "execution_count": 14,
     "metadata": {},
     "output_type": "execute_result"
    }
   ],
   "source": [
    "zlib.decompress(compressed) # decompress"
   ]
  },
  {
   "cell_type": "code",
   "execution_count": 15,
   "id": "617f0d47",
   "metadata": {},
   "outputs": [
    {
     "data": {
      "text/plain": [
       "35"
      ]
     },
     "execution_count": 15,
     "metadata": {},
     "output_type": "execute_result"
    }
   ],
   "source": [
    "# 반복되는 문자가 많은 데이터 압축 예제\n",
    "\n",
    "import zlib\n",
    "data = b'AAAAAAAAAAAAAAAAAAAaaaaaaaaaaaaaaaa'\n",
    "len(data)"
   ]
  },
  {
   "cell_type": "code",
   "execution_count": 16,
   "id": "51c11577",
   "metadata": {},
   "outputs": [
    {
     "data": {
      "text/plain": [
       "b'x\\x9cst\\xc4\\x00\\x89h\\x00\\x00\\xb1\\x19\\n\\xe4'"
      ]
     },
     "execution_count": 16,
     "metadata": {},
     "output_type": "execute_result"
    }
   ],
   "source": [
    "compressed = zlib.compress(data) # 압축\n",
    "compressed"
   ]
  },
  {
   "cell_type": "code",
   "execution_count": 17,
   "id": "a1d547a7",
   "metadata": {},
   "outputs": [
    {
     "data": {
      "text/plain": [
       "14"
      ]
     },
     "execution_count": 17,
     "metadata": {},
     "output_type": "execute_result"
    }
   ],
   "source": [
    "len(compressed) # redundancy가 많은 데이터가 압축할 때 효율좋음"
   ]
  },
  {
   "cell_type": "code",
   "execution_count": 18,
   "id": "4b78bdb3",
   "metadata": {},
   "outputs": [
    {
     "data": {
      "text/plain": [
       "b'AAAAAAAAAAAAAAAAAAAaaaaaaaaaaaaaaaa'"
      ]
     },
     "execution_count": 18,
     "metadata": {},
     "output_type": "execute_result"
    }
   ],
   "source": [
    "zlib.decompress(compressed) # decompress"
   ]
  },
  {
   "cell_type": "code",
   "execution_count": 19,
   "id": "e29962bd",
   "metadata": {},
   "outputs": [
    {
     "data": {
      "text/plain": [
       "b'x\\x9c\\x0b\\xa8,\\xc9\\xc8\\xcf\\x03\\x00\\x08\\x97\\x02\\x83.x\\x9c\\xab\\xca\\xc9L\\x02\\x00\\x04d\\x01\\xb2.'"
      ]
     },
     "execution_count": 19,
     "metadata": {},
     "output_type": "execute_result"
    }
   ],
   "source": [
    "# decompression object\n",
    "\n",
    "import zlib\n",
    "data = zlib.compress(b'Python') + b'.' + zlib.compress(b'zlib') + b'.'\n",
    "data"
   ]
  },
  {
   "cell_type": "code",
   "execution_count": 43,
   "id": "323ef5dc",
   "metadata": {},
   "outputs": [
    {
     "data": {
      "text/plain": [
       "(b'Pytho', b'')"
      ]
     },
     "execution_count": 43,
     "metadata": {},
     "output_type": "execute_result"
    }
   ],
   "source": [
    "d = zlib.decompressobj()\n",
    "d.decompress(data[0:8]), d.unused_data # compressed data를 8바이트만 가져옴"
   ]
  },
  {
   "cell_type": "code",
   "execution_count": 47,
   "id": "8cda402e",
   "metadata": {},
   "outputs": [
    {
     "data": {
      "text/plain": [
       "(b'Python', b'.x\\x9c\\xab\\xca\\xc9L\\x02\\x00\\x04d\\x01\\xb2.')"
      ]
     },
     "execution_count": 47,
     "metadata": {},
     "output_type": "execute_result"
    }
   ],
   "source": [
    "d = zlib.decompressobj()\n",
    "d.decompress(data), d.unused_data \n",
    "\n",
    "# 압축된 데이터를 decompress시, '.' 까지만 decompress하고 뒤는 쓰이지 않는다\n",
    "# unuesed_data를 다시 decompress 해야함"
   ]
  },
  {
   "cell_type": "code",
   "execution_count": 51,
   "id": "3f3beaaa",
   "metadata": {},
   "outputs": [
    {
     "data": {
      "text/plain": [
       "b'zlib'"
      ]
     },
     "execution_count": 51,
     "metadata": {},
     "output_type": "execute_result"
    }
   ],
   "source": [
    "zlib.decompress(b'x\\x9c\\xab\\xca\\xc9L\\x02\\x00\\x04d\\x01\\xb2')\n"
   ]
  },
  {
   "cell_type": "code",
   "execution_count": null,
   "id": "3eb20b5f",
   "metadata": {},
   "outputs": [],
   "source": []
  }
 ],
 "metadata": {
  "kernelspec": {
   "display_name": "Python 3 (ipykernel)",
   "language": "python",
   "name": "python3"
  },
  "language_info": {
   "codemirror_mode": {
    "name": "ipython",
    "version": 3
   },
   "file_extension": ".py",
   "mimetype": "text/x-python",
   "name": "python",
   "nbconvert_exporter": "python",
   "pygments_lexer": "ipython3",
   "version": "3.8.10"
  }
 },
 "nbformat": 4,
 "nbformat_minor": 5
}
