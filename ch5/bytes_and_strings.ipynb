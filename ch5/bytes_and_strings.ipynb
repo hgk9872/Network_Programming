{
 "cells": [
  {
   "cell_type": "code",
   "execution_count": 3,
   "id": "9a528cd7",
   "metadata": {},
   "outputs": [
    {
     "name": "stdout",
     "output_type": "stream",
     "text": [
      "98\n",
      "98\n",
      "98\n"
     ]
    }
   ],
   "source": [
    "## \"98\"을 binary format으로..\n",
    "\n",
    "print(0b1100010) # binary\n",
    "print(0o142) # Octal\n",
    "print(0x62) # hexadecimal"
   ]
  },
  {
   "cell_type": "code",
   "execution_count": 7,
   "id": "72bd403d",
   "metadata": {},
   "outputs": [
    {
     "name": "stdout",
     "output_type": "stream",
     "text": [
      "5\n",
      "<class 'bytes'>\n",
      "b'\\x00\\x01bcd'\n"
     ]
    },
    {
     "data": {
      "text/plain": [
       "[0, 1, 98, 99, 100]"
      ]
     },
     "execution_count": 7,
     "metadata": {},
     "output_type": "execute_result"
    }
   ],
   "source": [
    "## 숫자들의 list를 byte string으로..\n",
    "## bytes 함수 사용\n",
    "\n",
    "b = bytes([0, 1, 98, 99, 100])\n",
    "print(len(b))\n",
    "print(type(b))\n",
    "print(b)\n",
    "\n",
    "list(b) # 원래 숫자 list로 변환"
   ]
  },
  {
   "cell_type": "code",
   "execution_count": 9,
   "id": "508da2a7",
   "metadata": {},
   "outputs": [
    {
     "name": "stdout",
     "output_type": "stream",
     "text": [
      "\u0000 \u0001 \u0002 \u0003 \u0004 \u0005 \u0006 \u0007 \b \t \n",
      " \u000b",
      " \f",
      " \r",
      " \u000e \u000f \u0010 \u0011 \u0012 \u0013 \u0014 \u0015 \u0016 \u0017 \u0018 \u0019 \u001a \u001b \u001c",
      " \u001d",
      " \u001e",
      " \u001f\n",
      "  ! \" # $ % & ' ( ) * + , - . / 0 1 2 3 4 5 6 7 8 9 : ; < = > ?\n",
      "@ A B C D E F G H I J K L M N O P Q R S T U V W X Y Z [ \\ ] ^ _\n",
      "` a b c d e f g h i j k l m n o p q r s t u v w x y z { | } ~ \n"
     ]
    }
   ],
   "source": [
    "# print codes from 0 to 128 , 라인마다 32개 씩\n",
    "\n",
    "for i in range(0, 128, 32):\n",
    "    print(' '.join(chr(j) for j in range(i, i+32)))"
   ]
  },
  {
   "cell_type": "code",
   "execution_count": 13,
   "id": "e9d00a16",
   "metadata": {},
   "outputs": [
    {
     "name": "stdout",
     "output_type": "stream",
     "text": [
      "b'Hello'\n",
      "b'\\xff\\xfeH\\x00e\\x00l\\x00l\\x00o\\x00'\n",
      "b'\\xff\\xfe\\x00\\x00H\\x00\\x00\\x00e\\x00\\x00\\x00l\\x00\\x00\\x00l\\x00\\x00\\x00o\\x00\\x00\\x00'\n"
     ]
    }
   ],
   "source": [
    "## UTF-8/16/32 example\n",
    "print(\"Hello\".encode('UTF-8'))\n",
    "print(\"Hello\".encode('UTF-16'))\n",
    "print(\"Hello\".encode('UTF-32'))"
   ]
  },
  {
   "cell_type": "code",
   "execution_count": 14,
   "id": "c8033e66",
   "metadata": {},
   "outputs": [
    {
     "ename": "UnicodeEncodeError",
     "evalue": "'latin-1' codec can't encode characters in position 0-1: ordinal not in range(256)",
     "output_type": "error",
     "traceback": [
      "\u001b[1;31m---------------------------------------------------------------------------\u001b[0m",
      "\u001b[1;31mUnicodeEncodeError\u001b[0m                        Traceback (most recent call last)",
      "\u001b[1;32m~\\AppData\\Local\\Temp/ipykernel_5688/1086775900.py\u001b[0m in \u001b[0;36m<module>\u001b[1;34m\u001b[0m\n\u001b[0;32m      1\u001b[0m \u001b[1;31m## Handling Encdoing Errors\u001b[0m\u001b[1;33m\u001b[0m\u001b[1;33m\u001b[0m\u001b[1;33m\u001b[0m\u001b[0m\n\u001b[0;32m      2\u001b[0m \u001b[1;33m\u001b[0m\u001b[0m\n\u001b[1;32m----> 3\u001b[1;33m \u001b[1;34m'숭실univ'\u001b[0m\u001b[1;33m.\u001b[0m\u001b[0mencode\u001b[0m\u001b[1;33m(\u001b[0m\u001b[1;34m'latin-1'\u001b[0m\u001b[1;33m)\u001b[0m\u001b[1;33m\u001b[0m\u001b[1;33m\u001b[0m\u001b[0m\n\u001b[0m",
      "\u001b[1;31mUnicodeEncodeError\u001b[0m: 'latin-1' codec can't encode characters in position 0-1: ordinal not in range(256)"
     ]
    }
   ],
   "source": [
    "## Handling Encdoing Errors\n",
    "\n",
    "'숭실univ'.encode('latin-1')"
   ]
  },
  {
   "cell_type": "code",
   "execution_count": 16,
   "id": "35b124da",
   "metadata": {},
   "outputs": [
    {
     "name": "stdout",
     "output_type": "stream",
     "text": [
      "b'??univ'\n",
      "b'univ'\n"
     ]
    }
   ],
   "source": [
    "print('숭실univ'.encode('latin-1', 'replace')) # 식별되지 않는 문자는 '?'로 대체\n",
    "print('숭실univ'.encode('latin-1', 'ignore')) # 식별되지 않는 문자 무시"
   ]
  },
  {
   "cell_type": "code",
   "execution_count": 17,
   "id": "34363d9c",
   "metadata": {},
   "outputs": [
    {
     "data": {
      "text/plain": [
       "'0x109d'"
      ]
     },
     "execution_count": 17,
     "metadata": {},
     "output_type": "execute_result"
    }
   ],
   "source": [
    "## raw binary data를 좀 더 간결하게 사용 -> 16진수로..\n",
    "hex(4253)"
   ]
  },
  {
   "cell_type": "code",
   "execution_count": 19,
   "id": "1972e8d5",
   "metadata": {},
   "outputs": [
    {
     "name": "stdout",
     "output_type": "stream",
     "text": [
      "b'\\x00\\x00\\x10\\x9d'\n",
      "b'\\x9d\\x10\\x00\\x00'\n"
     ]
    }
   ],
   "source": [
    "# example of big-endian, little-endian\n",
    "\n",
    "import struct\n",
    "print(struct.pack('>i', 4253)) # big-endian 방식\n",
    "print(struct.pack('<i', 4253)) # little-endian 방식"
   ]
  },
  {
   "cell_type": "code",
   "execution_count": null,
   "id": "4f90f072",
   "metadata": {},
   "outputs": [],
   "source": []
  }
 ],
 "metadata": {
  "kernelspec": {
   "display_name": "Python 3 (ipykernel)",
   "language": "python",
   "name": "python3"
  },
  "language_info": {
   "codemirror_mode": {
    "name": "ipython",
    "version": 3
   },
   "file_extension": ".py",
   "mimetype": "text/x-python",
   "name": "python",
   "nbconvert_exporter": "python",
   "pygments_lexer": "ipython3",
   "version": "3.8.10"
  }
 },
 "nbformat": 4,
 "nbformat_minor": 5
}
